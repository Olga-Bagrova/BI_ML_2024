{
 "cells": [
  {
   "cell_type": "code",
   "execution_count": 1,
   "id": "4f10a73a",
   "metadata": {},
   "outputs": [],
   "source": [
    "import pandas as pd\n",
    "import matplotlib.pyplot as plt\n",
    "import seaborn as sns\n",
    "from sklearn.tree import DecisionTreeClassifier\n",
    "from sklearn.model_selection import train_test_split\n",
    "from sklearn.metrics import accuracy_score, balanced_accuracy_score, roc_auc_score \n",
    "from sklearn.model_selection import GridSearchCV\n",
    "from sklearn.neighbors import KNeighborsClassifier \n",
    "from sklearn.linear_model import LogisticRegression\n",
    "from sklearn.preprocessing import StandardScaler"
   ]
  },
  {
   "cell_type": "code",
   "execution_count": 2,
   "id": "7df31a27-f659-4b06-a0e7-7a5d4415a82b",
   "metadata": {},
   "outputs": [],
   "source": [
    "SEED = 11"
   ]
  },
  {
   "cell_type": "markdown",
   "id": "ec3d1f6a",
   "metadata": {},
   "source": [
    "Будем учиться классифицировать жанры музыки, пользуясь не аудио дорожками, а уже осмысленными признаками (правда, не все из них имеют понятные названия). Сами данные можно найти [здесь](https://www.kaggle.com/purumalgi/music-genre-classification). Будем использовать файл `train.csv`. Нашей задачей будет предсказание переменной `Class` (жанр песни) при помощи деревьев решений. Можно попробовать также другие методы классификации, которые мы прошли, и сравнить результаты. При обучении всех моделей не забывайте про разделение на тренировку и тест (или кросс валидацию [ссылка](https://www.youtube.com/watch?v=fSytzGwwBVw))."
   ]
  },
  {
   "cell_type": "markdown",
   "id": "28ab0366",
   "metadata": {},
   "source": [
    "### Задание 1. EDA (10 баллов)\n",
    "\n",
    "Как обычно, начнем с того, что посмотрим на наши данные: типы переменных, пропущенные значения, баланс классов и все такое. Ваш ход:"
   ]
  },
  {
   "cell_type": "code",
   "execution_count": 3,
   "id": "dc270650",
   "metadata": {},
   "outputs": [
    {
     "data": {
      "text/html": [
       "<div>\n",
       "<style scoped>\n",
       "    .dataframe tbody tr th:only-of-type {\n",
       "        vertical-align: middle;\n",
       "    }\n",
       "\n",
       "    .dataframe tbody tr th {\n",
       "        vertical-align: top;\n",
       "    }\n",
       "\n",
       "    .dataframe thead th {\n",
       "        text-align: right;\n",
       "    }\n",
       "</style>\n",
       "<table border=\"1\" class=\"dataframe\">\n",
       "  <thead>\n",
       "    <tr style=\"text-align: right;\">\n",
       "      <th></th>\n",
       "      <th>Artist Name</th>\n",
       "      <th>Track Name</th>\n",
       "      <th>Popularity</th>\n",
       "      <th>danceability</th>\n",
       "      <th>energy</th>\n",
       "      <th>key</th>\n",
       "      <th>loudness</th>\n",
       "      <th>mode</th>\n",
       "      <th>speechiness</th>\n",
       "      <th>acousticness</th>\n",
       "      <th>instrumentalness</th>\n",
       "      <th>liveness</th>\n",
       "      <th>valence</th>\n",
       "      <th>tempo</th>\n",
       "      <th>duration_in min/ms</th>\n",
       "      <th>time_signature</th>\n",
       "      <th>Class</th>\n",
       "    </tr>\n",
       "  </thead>\n",
       "  <tbody>\n",
       "    <tr>\n",
       "      <th>0</th>\n",
       "      <td>Bruno Mars</td>\n",
       "      <td>That's What I Like (feat. Gucci Mane)</td>\n",
       "      <td>60.0</td>\n",
       "      <td>0.854</td>\n",
       "      <td>0.564</td>\n",
       "      <td>1.0</td>\n",
       "      <td>-4.964</td>\n",
       "      <td>1</td>\n",
       "      <td>0.0485</td>\n",
       "      <td>0.017100</td>\n",
       "      <td>NaN</td>\n",
       "      <td>0.0849</td>\n",
       "      <td>0.8990</td>\n",
       "      <td>134.071</td>\n",
       "      <td>234596.0</td>\n",
       "      <td>4</td>\n",
       "      <td>5</td>\n",
       "    </tr>\n",
       "    <tr>\n",
       "      <th>1</th>\n",
       "      <td>Boston</td>\n",
       "      <td>Hitch a Ride</td>\n",
       "      <td>54.0</td>\n",
       "      <td>0.382</td>\n",
       "      <td>0.814</td>\n",
       "      <td>3.0</td>\n",
       "      <td>-7.230</td>\n",
       "      <td>1</td>\n",
       "      <td>0.0406</td>\n",
       "      <td>0.001100</td>\n",
       "      <td>0.004010</td>\n",
       "      <td>0.1010</td>\n",
       "      <td>0.5690</td>\n",
       "      <td>116.454</td>\n",
       "      <td>251733.0</td>\n",
       "      <td>4</td>\n",
       "      <td>10</td>\n",
       "    </tr>\n",
       "    <tr>\n",
       "      <th>2</th>\n",
       "      <td>The Raincoats</td>\n",
       "      <td>No Side to Fall In</td>\n",
       "      <td>35.0</td>\n",
       "      <td>0.434</td>\n",
       "      <td>0.614</td>\n",
       "      <td>6.0</td>\n",
       "      <td>-8.334</td>\n",
       "      <td>1</td>\n",
       "      <td>0.0525</td>\n",
       "      <td>0.486000</td>\n",
       "      <td>0.000196</td>\n",
       "      <td>0.3940</td>\n",
       "      <td>0.7870</td>\n",
       "      <td>147.681</td>\n",
       "      <td>109667.0</td>\n",
       "      <td>4</td>\n",
       "      <td>6</td>\n",
       "    </tr>\n",
       "    <tr>\n",
       "      <th>3</th>\n",
       "      <td>Deno</td>\n",
       "      <td>Lingo (feat. J.I &amp; Chunkz)</td>\n",
       "      <td>66.0</td>\n",
       "      <td>0.853</td>\n",
       "      <td>0.597</td>\n",
       "      <td>10.0</td>\n",
       "      <td>-6.528</td>\n",
       "      <td>0</td>\n",
       "      <td>0.0555</td>\n",
       "      <td>0.021200</td>\n",
       "      <td>NaN</td>\n",
       "      <td>0.1220</td>\n",
       "      <td>0.5690</td>\n",
       "      <td>107.033</td>\n",
       "      <td>173968.0</td>\n",
       "      <td>4</td>\n",
       "      <td>5</td>\n",
       "    </tr>\n",
       "    <tr>\n",
       "      <th>4</th>\n",
       "      <td>Red Hot Chili Peppers</td>\n",
       "      <td>Nobody Weird Like Me - Remastered</td>\n",
       "      <td>53.0</td>\n",
       "      <td>0.167</td>\n",
       "      <td>0.975</td>\n",
       "      <td>2.0</td>\n",
       "      <td>-4.279</td>\n",
       "      <td>1</td>\n",
       "      <td>0.2160</td>\n",
       "      <td>0.000169</td>\n",
       "      <td>0.016100</td>\n",
       "      <td>0.1720</td>\n",
       "      <td>0.0918</td>\n",
       "      <td>199.060</td>\n",
       "      <td>229960.0</td>\n",
       "      <td>4</td>\n",
       "      <td>10</td>\n",
       "    </tr>\n",
       "  </tbody>\n",
       "</table>\n",
       "</div>"
      ],
      "text/plain": [
       "             Artist Name                             Track Name  Popularity  \\\n",
       "0             Bruno Mars  That's What I Like (feat. Gucci Mane)        60.0   \n",
       "1                 Boston                           Hitch a Ride        54.0   \n",
       "2          The Raincoats                     No Side to Fall In        35.0   \n",
       "3                   Deno             Lingo (feat. J.I & Chunkz)        66.0   \n",
       "4  Red Hot Chili Peppers      Nobody Weird Like Me - Remastered        53.0   \n",
       "\n",
       "   danceability  energy   key  loudness  mode  speechiness  acousticness  \\\n",
       "0         0.854   0.564   1.0    -4.964     1       0.0485      0.017100   \n",
       "1         0.382   0.814   3.0    -7.230     1       0.0406      0.001100   \n",
       "2         0.434   0.614   6.0    -8.334     1       0.0525      0.486000   \n",
       "3         0.853   0.597  10.0    -6.528     0       0.0555      0.021200   \n",
       "4         0.167   0.975   2.0    -4.279     1       0.2160      0.000169   \n",
       "\n",
       "   instrumentalness  liveness  valence    tempo  duration_in min/ms  \\\n",
       "0               NaN    0.0849   0.8990  134.071            234596.0   \n",
       "1          0.004010    0.1010   0.5690  116.454            251733.0   \n",
       "2          0.000196    0.3940   0.7870  147.681            109667.0   \n",
       "3               NaN    0.1220   0.5690  107.033            173968.0   \n",
       "4          0.016100    0.1720   0.0918  199.060            229960.0   \n",
       "\n",
       "   time_signature  Class  \n",
       "0               4      5  \n",
       "1               4     10  \n",
       "2               4      6  \n",
       "3               4      5  \n",
       "4               4     10  "
      ]
     },
     "execution_count": 3,
     "metadata": {},
     "output_type": "execute_result"
    }
   ],
   "source": [
    "data = pd.read_csv(\"../data/train.csv\")\n",
    "df = data.copy()#сохраним исходный датафрейм на всякий\n",
    "data.head()"
   ]
  },
  {
   "cell_type": "code",
   "execution_count": 4,
   "id": "86e45c09-b505-4398-a70f-37f75fe10178",
   "metadata": {},
   "outputs": [
    {
     "name": "stdout",
     "output_type": "stream",
     "text": [
      "Треков 17996 и фичей 17\n"
     ]
    }
   ],
   "source": [
    "#сколько чего\n",
    "print(f'Треков {data.shape[0]} и фичей {data.shape[1]}')"
   ]
  },
  {
   "cell_type": "code",
   "execution_count": 5,
   "id": "67fe53ca-31b3-43bd-9992-a27b98181e33",
   "metadata": {},
   "outputs": [
    {
     "name": "stdout",
     "output_type": "stream",
     "text": [
      "<class 'pandas.core.frame.DataFrame'>\n",
      "RangeIndex: 17996 entries, 0 to 17995\n",
      "Data columns (total 17 columns):\n",
      " #   Column              Non-Null Count  Dtype  \n",
      "---  ------              --------------  -----  \n",
      " 0   Artist Name         17996 non-null  object \n",
      " 1   Track Name          17996 non-null  object \n",
      " 2   Popularity          17568 non-null  float64\n",
      " 3   danceability        17996 non-null  float64\n",
      " 4   energy              17996 non-null  float64\n",
      " 5   key                 15982 non-null  float64\n",
      " 6   loudness            17996 non-null  float64\n",
      " 7   mode                17996 non-null  int64  \n",
      " 8   speechiness         17996 non-null  float64\n",
      " 9   acousticness        17996 non-null  float64\n",
      " 10  instrumentalness    13619 non-null  float64\n",
      " 11  liveness            17996 non-null  float64\n",
      " 12  valence             17996 non-null  float64\n",
      " 13  tempo               17996 non-null  float64\n",
      " 14  duration_in min/ms  17996 non-null  float64\n",
      " 15  time_signature      17996 non-null  int64  \n",
      " 16  Class               17996 non-null  int64  \n",
      "dtypes: float64(12), int64(3), object(2)\n",
      "memory usage: 2.3+ MB\n"
     ]
    }
   ],
   "source": [
    "#типы переменных\n",
    "data.info()"
   ]
  },
  {
   "cell_type": "markdown",
   "id": "04b9c9b1-3337-40f8-a698-eba9b23893e2",
   "metadata": {},
   "source": [
    "> много числовых фичей => надо разобраться какие категориальные + дропнуть Artist Name и Track Name (строки) (хотя кстати, наверно, имя артиста можно было бы закодировать как категориальную переменную, но сейчас ниже посмотрим сколько там вариантов)"
   ]
  },
  {
   "cell_type": "code",
   "execution_count": 6,
   "id": "9ddc927d-0c97-4f70-bbf4-20e590cd7596",
   "metadata": {},
   "outputs": [
    {
     "data": {
      "text/plain": [
       "Artist Name            9149\n",
       "Track Name            15129\n",
       "Popularity              100\n",
       "danceability            909\n",
       "energy                 1208\n",
       "key                      11\n",
       "loudness               9002\n",
       "mode                      2\n",
       "speechiness            1194\n",
       "acousticness           3930\n",
       "instrumentalness       4253\n",
       "liveness               1459\n",
       "valence                1320\n",
       "tempo                 13562\n",
       "duration_in min/ms    14121\n",
       "time_signature            4\n",
       "Class                    11\n",
       "dtype: int64"
      ]
     },
     "execution_count": 6,
     "metadata": {},
     "output_type": "execute_result"
    }
   ],
   "source": [
    "#проверим сколько уникальных значений по столбцам\n",
    "data.nunique()"
   ]
  },
  {
   "cell_type": "markdown",
   "id": "eb5a15d7-0a70-471b-b20f-6dc9706a7e54",
   "metadata": {},
   "source": [
    ">да, вариантов среди артистов много => будем выкидывать эти (Artist Name и Track Name) фичи. Popularity, key, mode, time_signature - их можно взять за категориальные"
   ]
  },
  {
   "cell_type": "code",
   "execution_count": 7,
   "id": "52532172-73ef-4b1b-8f6b-a6277e2cf8c6",
   "metadata": {},
   "outputs": [
    {
     "data": {
      "text/html": [
       "<div>\n",
       "<style scoped>\n",
       "    .dataframe tbody tr th:only-of-type {\n",
       "        vertical-align: middle;\n",
       "    }\n",
       "\n",
       "    .dataframe tbody tr th {\n",
       "        vertical-align: top;\n",
       "    }\n",
       "\n",
       "    .dataframe thead th {\n",
       "        text-align: right;\n",
       "    }\n",
       "</style>\n",
       "<table border=\"1\" class=\"dataframe\">\n",
       "  <thead>\n",
       "    <tr style=\"text-align: right;\">\n",
       "      <th></th>\n",
       "      <th>Popularity</th>\n",
       "      <th>danceability</th>\n",
       "      <th>energy</th>\n",
       "      <th>key</th>\n",
       "      <th>loudness</th>\n",
       "      <th>mode</th>\n",
       "      <th>speechiness</th>\n",
       "      <th>acousticness</th>\n",
       "      <th>instrumentalness</th>\n",
       "      <th>liveness</th>\n",
       "      <th>valence</th>\n",
       "      <th>tempo</th>\n",
       "      <th>duration_in min/ms</th>\n",
       "      <th>time_signature</th>\n",
       "      <th>Class</th>\n",
       "    </tr>\n",
       "  </thead>\n",
       "  <tbody>\n",
       "    <tr>\n",
       "      <th>0</th>\n",
       "      <td>60.0</td>\n",
       "      <td>0.854</td>\n",
       "      <td>0.564</td>\n",
       "      <td>1.0</td>\n",
       "      <td>-4.964</td>\n",
       "      <td>1</td>\n",
       "      <td>0.0485</td>\n",
       "      <td>0.0171</td>\n",
       "      <td>NaN</td>\n",
       "      <td>0.0849</td>\n",
       "      <td>0.899</td>\n",
       "      <td>134.071</td>\n",
       "      <td>234596.0</td>\n",
       "      <td>4</td>\n",
       "      <td>5</td>\n",
       "    </tr>\n",
       "    <tr>\n",
       "      <th>1</th>\n",
       "      <td>54.0</td>\n",
       "      <td>0.382</td>\n",
       "      <td>0.814</td>\n",
       "      <td>3.0</td>\n",
       "      <td>-7.230</td>\n",
       "      <td>1</td>\n",
       "      <td>0.0406</td>\n",
       "      <td>0.0011</td>\n",
       "      <td>0.004010</td>\n",
       "      <td>0.1010</td>\n",
       "      <td>0.569</td>\n",
       "      <td>116.454</td>\n",
       "      <td>251733.0</td>\n",
       "      <td>4</td>\n",
       "      <td>10</td>\n",
       "    </tr>\n",
       "    <tr>\n",
       "      <th>2</th>\n",
       "      <td>35.0</td>\n",
       "      <td>0.434</td>\n",
       "      <td>0.614</td>\n",
       "      <td>6.0</td>\n",
       "      <td>-8.334</td>\n",
       "      <td>1</td>\n",
       "      <td>0.0525</td>\n",
       "      <td>0.4860</td>\n",
       "      <td>0.000196</td>\n",
       "      <td>0.3940</td>\n",
       "      <td>0.787</td>\n",
       "      <td>147.681</td>\n",
       "      <td>109667.0</td>\n",
       "      <td>4</td>\n",
       "      <td>6</td>\n",
       "    </tr>\n",
       "  </tbody>\n",
       "</table>\n",
       "</div>"
      ],
      "text/plain": [
       "  Popularity  danceability  energy  key  loudness mode  speechiness  \\\n",
       "0       60.0         0.854   0.564  1.0    -4.964    1       0.0485   \n",
       "1       54.0         0.382   0.814  3.0    -7.230    1       0.0406   \n",
       "2       35.0         0.434   0.614  6.0    -8.334    1       0.0525   \n",
       "\n",
       "   acousticness  instrumentalness  liveness  valence    tempo  \\\n",
       "0        0.0171               NaN    0.0849    0.899  134.071   \n",
       "1        0.0011          0.004010    0.1010    0.569  116.454   \n",
       "2        0.4860          0.000196    0.3940    0.787  147.681   \n",
       "\n",
       "   duration_in min/ms time_signature  Class  \n",
       "0            234596.0              4      5  \n",
       "1            251733.0              4     10  \n",
       "2            109667.0              4      6  "
      ]
     },
     "execution_count": 7,
     "metadata": {},
     "output_type": "execute_result"
    }
   ],
   "source": [
    "data[['Popularity', 'key', 'mode', 'time_signature']] = data[['Popularity', 'key', 'mode', 'time_signature']].astype(\"category\")\n",
    "data = data.drop(['Artist Name', 'Track Name'], axis=1)\n",
    "data.head(3)"
   ]
  },
  {
   "cell_type": "code",
   "execution_count": 8,
   "id": "753a087d-9ea4-49cb-87e5-88698fad225c",
   "metadata": {},
   "outputs": [
    {
     "name": "stdout",
     "output_type": "stream",
     "text": [
      "Количество NA: 6819\n",
      "Количество дубликатов: 41\n"
     ]
    }
   ],
   "source": [
    "#пропущенные значения и пр. \n",
    "#Кол-во NA\n",
    "print(f'Количество NA: {(data.isnull().sum()).sum()}')#много NA. ниже глянем где они конкретно сидят\n",
    "#Дубликаты\n",
    "print(f'Количество дубликатов: {(data[data.duplicated()]).shape[0]}')"
   ]
  },
  {
   "cell_type": "markdown",
   "id": "210a20fb-297c-4ce3-b197-0dfa98f8ec08",
   "metadata": {},
   "source": [
    ">Есть много NA => с ними надо что-то делать (смотрим ниже). И есть ещё строки-дубликаты, но к ним вернёмся после NA. Сейчас повнимательнее посмотрим где NA:"
   ]
  },
  {
   "cell_type": "code",
   "execution_count": 9,
   "id": "64ee59e3-232f-4dc3-aea7-4f12c83c0195",
   "metadata": {},
   "outputs": [
    {
     "data": {
      "text/plain": [
       "Popularity             428\n",
       "danceability             0\n",
       "energy                   0\n",
       "key                   2014\n",
       "loudness                 0\n",
       "mode                     0\n",
       "speechiness              0\n",
       "acousticness             0\n",
       "instrumentalness      4377\n",
       "liveness                 0\n",
       "valence                  0\n",
       "tempo                    0\n",
       "duration_in min/ms       0\n",
       "time_signature           0\n",
       "Class                    0\n",
       "dtype: int64"
      ]
     },
     "execution_count": 9,
     "metadata": {},
     "output_type": "execute_result"
    }
   ],
   "source": [
    "data.isna().sum()"
   ]
  },
  {
   "cell_type": "markdown",
   "id": "7ad4cabb-d57d-4972-a8b8-3e0f2f2ced8f",
   "metadata": {},
   "source": [
    ">так, можно либо дропнуть колонки, где есть NA, либо удалить строки с NA, либо чем-нибудь заполнить NA. Попробуем разное"
   ]
  },
  {
   "cell_type": "markdown",
   "id": "6544585d-3a85-4799-9164-21e06d740f3a",
   "metadata": {},
   "source": [
    "> **Первый датафрейм** : удаление фичей с пропусками"
   ]
  },
  {
   "cell_type": "code",
   "execution_count": 10,
   "id": "616095bc-9833-4ce7-a36d-151b7388d0a1",
   "metadata": {},
   "outputs": [],
   "source": [
    "#Первый датафрейм: удаление фичей с пропусками\n",
    "data_wo_na_cols = data.drop(['Popularity', 'key', 'instrumentalness'], axis=1)"
   ]
  },
  {
   "cell_type": "code",
   "execution_count": 11,
   "id": "f6a9df23-911c-4ace-8fd8-71fe3205df71",
   "metadata": {},
   "outputs": [
    {
     "name": "stdout",
     "output_type": "stream",
     "text": [
      "----Убрали колонки с NA----\n",
      "Треков 17996 и фичей 12\n",
      "Количество NA: 0\n",
      "Количество дубликатов: 46\n"
     ]
    }
   ],
   "source": [
    "#небольшая сводочка для \"без КОЛОНОК\"\n",
    "print('----Убрали колонки с NA----')\n",
    "print(f'Треков {data_wo_na_cols.shape[0]} и фичей {data_wo_na_cols.shape[1]}')\n",
    "#Кол-во NA\n",
    "print(f'Количество NA: {(data_wo_na_cols.isnull().sum()).sum()}')#много NA. ниже глянем где они конкретно сидят\n",
    "#Дубликаты\n",
    "print(f'Количество дубликатов: {(data_wo_na_cols[data_wo_na_cols.duplicated()]).shape[0]}')"
   ]
  },
  {
   "cell_type": "markdown",
   "id": "5daca4d0-da46-41d4-a63a-20d721052857",
   "metadata": {},
   "source": [
    "> **Второй датафрейм** : удаление строк с пропусками"
   ]
  },
  {
   "cell_type": "code",
   "execution_count": 12,
   "id": "c3a776e3-a134-4464-b53f-f5df56fd63d8",
   "metadata": {},
   "outputs": [],
   "source": [
    "#Второй датафрейм: удаление строк с пропусками\n",
    "data_wo_na_rows = data.dropna()"
   ]
  },
  {
   "cell_type": "code",
   "execution_count": 13,
   "id": "1db9329d-8625-435b-8849-2bd642221c58",
   "metadata": {},
   "outputs": [
    {
     "name": "stdout",
     "output_type": "stream",
     "text": [
      "----Убрали строки с NA----\n",
      "Треков 11813 и фичей 15\n",
      "Количество NA: 0\n",
      "Количество дубликатов: 26\n"
     ]
    }
   ],
   "source": [
    "#небольшая сводочка для \"без СТРОК\"\n",
    "print('----Убрали строки с NA----')\n",
    "print(f'Треков {data_wo_na_rows.shape[0]} и фичей {data_wo_na_rows.shape[1]}')\n",
    "#Кол-во NA\n",
    "print(f'Количество NA: {(data_wo_na_rows.isnull().sum()).sum()}')#много NA. ниже глянем где они конкретно сидят\n",
    "#Дубликаты\n",
    "print(f'Количество дубликатов: {(data_wo_na_rows[data_wo_na_rows.duplicated()]).shape[0]}')"
   ]
  },
  {
   "cell_type": "markdown",
   "id": "eecb8c25-9679-496d-ba06-59a65d3a4d77",
   "metadata": {},
   "source": [
    "> **Третий датафрейм** : заполнение пропусков модой\n",
    "\n",
    "*В обычных случаях можно было бы заполнить медианой, средним или модой (вариантов больше конечно), но мне не нравится каждый из вариантов. Здесь категориальный признак, поэтому давайте просто посмотрим к чему нас приведёт то, что мы просто пропуски заполним самым частым значением, хотя конечно это вносит дисбаланс в фиче*"
   ]
  },
  {
   "cell_type": "code",
   "execution_count": 14,
   "id": "8fcfeaa7-e1f7-440a-88fd-11b5a41e2b09",
   "metadata": {},
   "outputs": [],
   "source": [
    "#Третий датафрейм: заполнение самым частым значением \n",
    "data_fill_na = data.copy()\n",
    "data_fill_na['Popularity'] = data_fill_na['Popularity'].fillna(data_fill_na['Popularity'].mode()[0])\n",
    "data_fill_na['key'] = data_fill_na['key'].fillna(data_fill_na['key'].mode()[0])\n",
    "data_fill_na['instrumentalness'] = data_fill_na['instrumentalness'].fillna(data_fill_na['instrumentalness'].mode()[0])"
   ]
  },
  {
   "cell_type": "code",
   "execution_count": 15,
   "id": "ce96ece9-2f64-4962-8907-4ead1da997c2",
   "metadata": {},
   "outputs": [
    {
     "name": "stdout",
     "output_type": "stream",
     "text": [
      "----Заполнили NA----\n",
      "Треков 17996 и фичей 15\n",
      "Количество NA: 0\n",
      "Количество дубликатов: 41\n"
     ]
    }
   ],
   "source": [
    "#небольшая сводочка для \"заполненные\"\n",
    "print('----Заполнили NA----')\n",
    "print(f'Треков {data_fill_na.shape[0]} и фичей {data_fill_na.shape[1]}')\n",
    "#Кол-во NA\n",
    "print(f'Количество NA: {(data_fill_na.isnull().sum()).sum()}')#много NA. ниже глянем где они конкретно сидят\n",
    "#Дубликаты\n",
    "print(f'Количество дубликатов: {(data_fill_na[data_fill_na.duplicated()]).shape[0]}')"
   ]
  },
  {
   "cell_type": "markdown",
   "id": "80df471a-6391-4e05-8868-8068afc18bce",
   "metadata": {},
   "source": [
    "> Возвращаемся к дубликатам:"
   ]
  },
  {
   "cell_type": "code",
   "execution_count": 16,
   "id": "9de69e60-766a-4d42-86ca-e47efda3ce1d",
   "metadata": {},
   "outputs": [
    {
     "data": {
      "text/html": [
       "<div>\n",
       "<style scoped>\n",
       "    .dataframe tbody tr th:only-of-type {\n",
       "        vertical-align: middle;\n",
       "    }\n",
       "\n",
       "    .dataframe tbody tr th {\n",
       "        vertical-align: top;\n",
       "    }\n",
       "\n",
       "    .dataframe thead th {\n",
       "        text-align: right;\n",
       "    }\n",
       "</style>\n",
       "<table border=\"1\" class=\"dataframe\">\n",
       "  <thead>\n",
       "    <tr style=\"text-align: right;\">\n",
       "      <th></th>\n",
       "      <th>Popularity</th>\n",
       "      <th>danceability</th>\n",
       "      <th>energy</th>\n",
       "      <th>key</th>\n",
       "      <th>loudness</th>\n",
       "      <th>mode</th>\n",
       "      <th>speechiness</th>\n",
       "      <th>acousticness</th>\n",
       "      <th>instrumentalness</th>\n",
       "      <th>liveness</th>\n",
       "      <th>valence</th>\n",
       "      <th>tempo</th>\n",
       "      <th>duration_in min/ms</th>\n",
       "      <th>time_signature</th>\n",
       "      <th>Class</th>\n",
       "    </tr>\n",
       "  </thead>\n",
       "  <tbody>\n",
       "    <tr>\n",
       "      <th>6998</th>\n",
       "      <td>1.0</td>\n",
       "      <td>0.562</td>\n",
       "      <td>0.961</td>\n",
       "      <td>4.0</td>\n",
       "      <td>-7.338</td>\n",
       "      <td>1</td>\n",
       "      <td>0.0617</td>\n",
       "      <td>0.00486</td>\n",
       "      <td>0.7960</td>\n",
       "      <td>0.149</td>\n",
       "      <td>0.960</td>\n",
       "      <td>125.036</td>\n",
       "      <td>450547.0</td>\n",
       "      <td>4</td>\n",
       "      <td>1</td>\n",
       "    </tr>\n",
       "    <tr>\n",
       "      <th>8455</th>\n",
       "      <td>1.0</td>\n",
       "      <td>0.562</td>\n",
       "      <td>0.961</td>\n",
       "      <td>4.0</td>\n",
       "      <td>-7.338</td>\n",
       "      <td>1</td>\n",
       "      <td>0.0617</td>\n",
       "      <td>0.00486</td>\n",
       "      <td>0.7960</td>\n",
       "      <td>0.149</td>\n",
       "      <td>0.960</td>\n",
       "      <td>125.036</td>\n",
       "      <td>450547.0</td>\n",
       "      <td>4</td>\n",
       "      <td>1</td>\n",
       "    </tr>\n",
       "    <tr>\n",
       "      <th>9263</th>\n",
       "      <td>21.0</td>\n",
       "      <td>0.403</td>\n",
       "      <td>0.579</td>\n",
       "      <td>5.0</td>\n",
       "      <td>-8.123</td>\n",
       "      <td>0</td>\n",
       "      <td>0.0388</td>\n",
       "      <td>0.12800</td>\n",
       "      <td>0.0219</td>\n",
       "      <td>0.096</td>\n",
       "      <td>0.236</td>\n",
       "      <td>100.019</td>\n",
       "      <td>209400.0</td>\n",
       "      <td>4</td>\n",
       "      <td>9</td>\n",
       "    </tr>\n",
       "    <tr>\n",
       "      <th>3100</th>\n",
       "      <td>21.0</td>\n",
       "      <td>0.403</td>\n",
       "      <td>0.579</td>\n",
       "      <td>5.0</td>\n",
       "      <td>-8.123</td>\n",
       "      <td>0</td>\n",
       "      <td>0.0388</td>\n",
       "      <td>0.12800</td>\n",
       "      <td>0.0219</td>\n",
       "      <td>0.096</td>\n",
       "      <td>0.236</td>\n",
       "      <td>100.019</td>\n",
       "      <td>209400.0</td>\n",
       "      <td>4</td>\n",
       "      <td>9</td>\n",
       "    </tr>\n",
       "  </tbody>\n",
       "</table>\n",
       "</div>"
      ],
      "text/plain": [
       "     Popularity  danceability  energy  key  loudness mode  speechiness  \\\n",
       "6998        1.0         0.562   0.961  4.0    -7.338    1       0.0617   \n",
       "8455        1.0         0.562   0.961  4.0    -7.338    1       0.0617   \n",
       "9263       21.0         0.403   0.579  5.0    -8.123    0       0.0388   \n",
       "3100       21.0         0.403   0.579  5.0    -8.123    0       0.0388   \n",
       "\n",
       "      acousticness  instrumentalness  liveness  valence    tempo  \\\n",
       "6998       0.00486            0.7960     0.149    0.960  125.036   \n",
       "8455       0.00486            0.7960     0.149    0.960  125.036   \n",
       "9263       0.12800            0.0219     0.096    0.236  100.019   \n",
       "3100       0.12800            0.0219     0.096    0.236  100.019   \n",
       "\n",
       "      duration_in min/ms time_signature  Class  \n",
       "6998            450547.0              4      1  \n",
       "8455            450547.0              4      1  \n",
       "9263            209400.0              4      9  \n",
       "3100            209400.0              4      9  "
      ]
     },
     "execution_count": 16,
     "metadata": {},
     "output_type": "execute_result"
    }
   ],
   "source": [
    "data[data.duplicated(keep=False)].sort_values(by='Popularity').head(4)\n",
    "#ну ещё раз, что они есть (пример на исходном датасете) => давайте удалим их из наших новоиспечённых"
   ]
  },
  {
   "cell_type": "code",
   "execution_count": 17,
   "id": "13f9f9cb-6600-4bf4-aba7-8b416a0998f8",
   "metadata": {},
   "outputs": [
    {
     "name": "stdout",
     "output_type": "stream",
     "text": [
      "Осталось дубликатов: 0\n"
     ]
    }
   ],
   "source": [
    "#Первый датафрейм\n",
    "data_wo_na_cols = data_wo_na_cols.drop_duplicates()\n",
    "print(f'Осталось дубликатов: {(data_wo_na_cols[data_wo_na_cols.duplicated()]).shape[0]}')"
   ]
  },
  {
   "cell_type": "code",
   "execution_count": 18,
   "id": "405e55f8-3708-4ca9-96c3-51747c92a579",
   "metadata": {},
   "outputs": [
    {
     "name": "stdout",
     "output_type": "stream",
     "text": [
      "Осталось дубликатов: 0\n"
     ]
    }
   ],
   "source": [
    "#Второй датафрейм\n",
    "data_wo_na_rows = data_wo_na_rows.drop_duplicates()\n",
    "print(f'Осталось дубликатов: {(data_wo_na_rows[data_wo_na_rows.duplicated()]).shape[0]}')"
   ]
  },
  {
   "cell_type": "code",
   "execution_count": 19,
   "id": "5c446a83-3d22-4315-b864-d8ef11fb5c99",
   "metadata": {},
   "outputs": [
    {
     "name": "stdout",
     "output_type": "stream",
     "text": [
      "Осталось дубликатов: 0\n"
     ]
    }
   ],
   "source": [
    "#Второй датафрейм\n",
    "data_fill_na = data_fill_na.drop_duplicates()\n",
    "print(f'Осталось дубликатов: {(data_fill_na[data_fill_na.duplicated()]).shape[0]}')"
   ]
  },
  {
   "cell_type": "markdown",
   "id": "3ab76135-04b4-4a75-b17b-1b47e6945ddc",
   "metadata": {},
   "source": [
    "> Теперь баланс классов"
   ]
  },
  {
   "cell_type": "code",
   "execution_count": 20,
   "id": "55cdf5d8-fea3-45d2-ac5d-af24a6f70256",
   "metadata": {},
   "outputs": [
    {
     "data": {
      "text/plain": [
       "Class\n",
       "10    4927\n",
       "6     2584\n",
       "9     2521\n",
       "8     1849\n",
       "5     1445\n",
       "1     1369\n",
       "2     1267\n",
       "0      624\n",
       "7      575\n",
       "3      402\n",
       "4      387\n",
       "Name: count, dtype: int64"
      ]
     },
     "execution_count": 20,
     "metadata": {},
     "output_type": "execute_result"
    }
   ],
   "source": [
    "#баланс классов:\n",
    "data_wo_na_cols['Class'].value_counts()"
   ]
  },
  {
   "cell_type": "code",
   "execution_count": 21,
   "id": "84932879-3bad-4c64-8829-830cd9b0fc38",
   "metadata": {},
   "outputs": [
    {
     "data": {
      "text/plain": [
       "Class\n",
       "10    3363\n",
       "6     2037\n",
       "8     1518\n",
       "9     1098\n",
       "1     1033\n",
       "2      954\n",
       "5      516\n",
       "7      464\n",
       "0      386\n",
       "3      270\n",
       "4      148\n",
       "Name: count, dtype: int64"
      ]
     },
     "execution_count": 21,
     "metadata": {},
     "output_type": "execute_result"
    }
   ],
   "source": [
    "#баланс классов:\n",
    "data_wo_na_rows['Class'].value_counts()"
   ]
  },
  {
   "cell_type": "code",
   "execution_count": 22,
   "id": "e10ed56c-55a4-42fd-8691-e9899649bd89",
   "metadata": {},
   "outputs": [
    {
     "data": {
      "text/plain": [
       "Class\n",
       "10    4929\n",
       "6     2584\n",
       "9     2521\n",
       "8     1849\n",
       "5     1445\n",
       "1     1369\n",
       "2     1268\n",
       "0      625\n",
       "7      576\n",
       "3      402\n",
       "4      387\n",
       "Name: count, dtype: int64"
      ]
     },
     "execution_count": 22,
     "metadata": {},
     "output_type": "execute_result"
    }
   ],
   "source": [
    "#баланс классов:\n",
    "data_fill_na['Class'].value_counts()"
   ]
  },
  {
   "cell_type": "markdown",
   "id": "c6198837-ab6f-4564-b82f-f64fffa77ee3",
   "metadata": {},
   "source": [
    "> дисбаланс конечно есть (самый большой класс в 12 (а то и в >20) раз больше самого маленького)"
   ]
  },
  {
   "cell_type": "code",
   "execution_count": 23,
   "id": "1a518782-d38a-4677-b029-cb2e36b77b05",
   "metadata": {
    "scrolled": true
   },
   "outputs": [
    {
     "name": "stdout",
     "output_type": "stream",
     "text": [
      "----------energy----------\n"
     ]
    },
    {
     "data": {
      "image/png": "[encoded data removed]",
      "text/plain": [
       "<Figure size 800x300 with 2 Axes>"
      ]
     },
     "metadata": {},
     "output_type": "display_data"
    },
    {
     "name": "stdout",
     "output_type": "stream",
     "text": [
      "----------key----------\n"
     ]
    },
    {
     "data": {
      "image/png": "[encoded data removed]",
      "text/plain": [
       "<Figure size 800x300 with 2 Axes>"
      ]
     },
     "metadata": {},
     "output_type": "display_data"
    },
    {
     "name": "stdout",
     "output_type": "stream",
     "text": [
      "----------loudness----------\n"
     ]
    },
    {
     "data": {
      "image/png": "[encoded data removed]",
      "text/plain": [
       "<Figure size 800x300 with 2 Axes>"
      ]
     },
     "metadata": {},
     "output_type": "display_data"
    },
    {
     "name": "stdout",
     "output_type": "stream",
     "text": [
      "----------mode----------\n"
     ]
    },
    {
     "data": {
      "image/png": "[encoded data removed]",
      "text/plain": [
       "<Figure size 800x300 with 2 Axes>"
      ]
     },
     "metadata": {},
     "output_type": "display_data"
    },
    {
     "name": "stdout",
     "output_type": "stream",
     "text": [
      "----------speechiness----------\n"
     ]
    },
    {
     "data": {
      "image/png": "[encoded data removed]",
      "text/plain": [
       "<Figure size 800x300 with 2 Axes>"
      ]
     },
     "metadata": {},
     "output_type": "display_data"
    },
    {
     "name": "stdout",
     "output_type": "stream",
     "text": [
      "----------acousticness----------\n"
     ]
    },
    {
     "data": {
      "image/png": "[encoded data removed]",
      "text/plain": [
       "<Figure size 800x300 with 2 Axes>"
      ]
     },
     "metadata": {},
     "output_type": "display_data"
    },
    {
     "name": "stdout",
     "output_type": "stream",
     "text": [
      "----------instrumentalness----------\n"
     ]
    },
    {
     "data": {
      "image/png": "[encoded data removed]",
      "text/plain": [
       "<Figure size 800x300 with 2 Axes>"
      ]
     },
     "metadata": {},
     "output_type": "display_data"
    },
    {
     "name": "stdout",
     "output_type": "stream",
     "text": [
      "----------liveness----------\n"
     ]
    },
    {
     "data": {
      "image/png": "[encoded data removed]",
      "text/plain": [
       "<Figure size 800x300 with 2 Axes>"
      ]
     },
     "metadata": {},
     "output_type": "display_data"
    },
    {
     "name": "stdout",
     "output_type": "stream",
     "text": [
      "----------valence----------\n"
     ]
    },
    {
     "data": {
      "image/png": "[encoded data removed]",
      "text/plain": [
       "<Figure size 800x300 with 2 Axes>"
      ]
     },
     "metadata": {},
     "output_type": "display_data"
    },
    {
     "name": "stdout",
     "output_type": "stream",
     "text": [
      "----------tempo----------\n"
     ]
    },
    {
     "data": {
      "image/png": "[encoded data removed]",
      "text/plain": [
       "<Figure size 800x300 with 2 Axes>"
      ]
     },
     "metadata": {},
     "output_type": "display_data"
    },
    {
     "name": "stdout",
     "output_type": "stream",
     "text": [
      "----------duration_in min/ms----------\n"
     ]
    },
    {
     "data": {
      "image/png": "[encoded data removed]",
      "text/plain": [
       "<Figure size 800x300 with 2 Axes>"
      ]
     },
     "metadata": {},
     "output_type": "display_data"
    },
    {
     "name": "stdout",
     "output_type": "stream",
     "text": [
      "----------time_signature----------\n"
     ]
    },
    {
     "data": {
      "image/png": "[encoded data removed]",
      "text/plain": [
       "<Figure size 800x300 with 2 Axes>"
      ]
     },
     "metadata": {},
     "output_type": "display_data"
    },
    {
     "name": "stdout",
     "output_type": "stream",
     "text": [
      "----------Class----------\n"
     ]
    },
    {
     "data": {
      "image/png": "[encoded data removed]",
      "text/plain": [
       "<Figure size 800x300 with 2 Axes>"
      ]
     },
     "metadata": {},
     "output_type": "display_data"
    }
   ],
   "source": [
    "# и всё такое: давайте глянем боксплоты и гистограммки\n",
    "for i in range(2,len(data.columns)):\n",
    "    print(f'----------{data.columns[i]}----------')\n",
    "    fig, (ax1, ax2) = plt.subplots(1, 2, figsize=(8, 3))\n",
    "    sns.histplot(data\n",
    "                 .iloc[:, i], ax=ax1, color='#0a377a')\n",
    "    sns.boxplot(data.iloc[:, i], ax=ax2, color='#4facf1')\n",
    "    plt.show()"
   ]
  },
  {
   "cell_type": "markdown",
   "id": "353a2ad4-9ac2-4f42-aaed-8bff714d2037",
   "metadata": {},
   "source": [
    "> На боксплотах конечно видны точки за пределами 1.5*IQR, но там сконцентрировано много точек, поэтому не будем считать это выбросами."
   ]
  },
  {
   "cell_type": "code",
   "execution_count": null,
   "id": "98978671-75d1-4c84-a907-5afaf7eefc2c",
   "metadata": {},
   "outputs": [],
   "source": []
  },
  {
   "cell_type": "code",
   "execution_count": 10,
   "id": "cc3064b4-c7aa-4e97-93fc-f73158a808d9",
   "metadata": {},
   "outputs": [
    {
     "data": {
      "text/html": [
       "<div>\n",
       "<style scoped>\n",
       "    .dataframe tbody tr th:only-of-type {\n",
       "        vertical-align: middle;\n",
       "    }\n",
       "\n",
       "    .dataframe tbody tr th {\n",
       "        vertical-align: top;\n",
       "    }\n",
       "\n",
       "    .dataframe thead th {\n",
       "        text-align: right;\n",
       "    }\n",
       "</style>\n",
       "<table border=\"1\" class=\"dataframe\">\n",
       "  <thead>\n",
       "    <tr style=\"text-align: right;\">\n",
       "      <th></th>\n",
       "      <th>Artist Name</th>\n",
       "      <th>Track Name</th>\n",
       "      <th>Popularity</th>\n",
       "      <th>danceability</th>\n",
       "      <th>energy</th>\n",
       "      <th>key</th>\n",
       "      <th>loudness</th>\n",
       "      <th>mode</th>\n",
       "      <th>speechiness</th>\n",
       "      <th>acousticness</th>\n",
       "      <th>instrumentalness</th>\n",
       "      <th>liveness</th>\n",
       "      <th>valence</th>\n",
       "      <th>tempo</th>\n",
       "      <th>duration_in min/ms</th>\n",
       "      <th>time_signature</th>\n",
       "      <th>Class</th>\n",
       "    </tr>\n",
       "  </thead>\n",
       "  <tbody>\n",
       "    <tr>\n",
       "      <th>2447</th>\n",
       "      <td>Mark Turner</td>\n",
       "      <td>Skylark</td>\n",
       "      <td>40.0</td>\n",
       "      <td>0.477</td>\n",
       "      <td>0.0775</td>\n",
       "      <td>NaN</td>\n",
       "      <td>-19.338</td>\n",
       "      <td>0</td>\n",
       "      <td>0.0481</td>\n",
       "      <td>0.927</td>\n",
       "      <td>0.253</td>\n",
       "      <td>0.112</td>\n",
       "      <td>0.205</td>\n",
       "      <td>115.488</td>\n",
       "      <td>5.926667</td>\n",
       "      <td>4</td>\n",
       "      <td>7</td>\n",
       "    </tr>\n",
       "  </tbody>\n",
       "</table>\n",
       "</div>"
      ],
      "text/plain": [
       "      Artist Name Track Name  Popularity  danceability  energy  key  loudness  \\\n",
       "2447  Mark Turner    Skylark        40.0         0.477  0.0775  NaN   -19.338   \n",
       "\n",
       "      mode  speechiness  acousticness  instrumentalness  liveness  valence  \\\n",
       "2447     0       0.0481         0.927             0.253     0.112    0.205   \n",
       "\n",
       "        tempo  duration_in min/ms  time_signature  Class  \n",
       "2447  115.488            5.926667               4      7  "
      ]
     },
     "execution_count": 10,
     "metadata": {},
     "output_type": "execute_result"
    }
   ],
   "source": [
    "#FUN-POINT\n",
    "#делаем рандом на песню и слушаем: я для дальнейшей работы над дз, Вы для дальнейшей проверки (сори, если выпадет что-то, что не по вкусу)\n",
    "data.sample() #у меня был: Mark Turner - Skylark (мне не зашло). А у Вас?"
   ]
  },
  {
   "cell_type": "code",
   "execution_count": null,
   "id": "0f6c6358-d6db-445a-a58d-a65ca87348ad",
   "metadata": {},
   "outputs": [],
   "source": []
  },
  {
   "cell_type": "markdown",
   "id": "cccd03d9",
   "metadata": {},
   "source": [
    "### Задание 2. Обучение дерева решений (10 баллов)\n",
    "\n",
    "Предобработайте признаки так, чтобы их можно было подать в модель дерева решений и обучите ее, постарайтесь подобрать оптимальные гиперпараметры, которые вам известны. Постарайтесь также обосновать выбор метрики в данном случае. При подборе гиперпараметров может помочь `GridSearchCV` [ссылка](https://scikit-learn.org/stable/modules/generated/sklearn.model_selection.GridSearchCV.html)."
   ]
  },
  {
   "cell_type": "markdown",
   "id": "fbd72ae2-8913-4252-9fe6-83f6545136ce",
   "metadata": {},
   "source": [
    "> **Первый датафрейм (без колонок с NA)**"
   ]
  },
  {
   "cell_type": "code",
   "execution_count": 24,
   "id": "dc0c1342",
   "metadata": {},
   "outputs": [],
   "source": [
    "#Сплитим\n",
    "X = data_wo_na_cols.drop(['Class'], axis=1)\n",
    "Y = data_wo_na_cols['Class']\n",
    "X_train, X_test, y_train, y_test = train_test_split(X, Y, test_size=0.2, random_state = SEED)"
   ]
  },
  {
   "cell_type": "code",
   "execution_count": 25,
   "id": "5d5619f9-8b90-48a7-bee0-4843da55ca1a",
   "metadata": {},
   "outputs": [],
   "source": [
    "#подбор модели\n",
    "dt_model = GridSearchCV(DecisionTreeClassifier(), \n",
    "                          {'max_depth': [1, 3, 5, 7, 10],\n",
    "                           'min_samples_leaf': [1, 3, 5, 10], \n",
    "                           'min_samples_split': [2, 3, 5, 10],\n",
    "                           'criterion': ['gini', 'entropy'],\n",
    "                           'random_state': [SEED]\n",
    "                          }\n",
    "                        ).fit(X_train, y_train)"
   ]
  },
  {
   "cell_type": "code",
   "execution_count": 26,
   "id": "f07fbbf4-6bdb-43e1-af1f-5192e33eea10",
   "metadata": {},
   "outputs": [
    {
     "data": {
      "text/plain": [
       "{'criterion': 'gini',\n",
       " 'max_depth': 7,\n",
       " 'min_samples_leaf': 5,\n",
       " 'min_samples_split': 2,\n",
       " 'random_state': 11}"
      ]
     },
     "execution_count": 26,
     "metadata": {},
     "output_type": "execute_result"
    }
   ],
   "source": [
    "#лучшая\n",
    "dt_model.best_params_"
   ]
  },
  {
   "cell_type": "code",
   "execution_count": 27,
   "id": "cd6eb5c2-8f69-4f39-bf94-5006b2ec5aba",
   "metadata": {},
   "outputs": [],
   "source": [
    "#предсказания\n",
    "y_pred_proba = dt_model.predict_proba(X_test)\n",
    "y_pred = dt_model.predict(X_test)"
   ]
  },
  {
   "cell_type": "code",
   "execution_count": 28,
   "id": "b8242559-b77d-402c-b865-b3c0d26ba60c",
   "metadata": {},
   "outputs": [
    {
     "name": "stdout",
     "output_type": "stream",
     "text": [
      "Accuracy = 0.45\n",
      "Balanced accuracy = 0.43\n",
      "ROC AUC (ovr) = 0.85\n",
      "ROC AUC (ovo) = 0.88\n"
     ]
    }
   ],
   "source": [
    "#метрики\n",
    "print(f'Accuracy = {accuracy_score(y_true=y_test, y_pred=y_pred):1.2f}')\n",
    "print(f'Balanced accuracy = {balanced_accuracy_score(y_true=y_test, y_pred=y_pred):1.2f}') #нашла такое, решила поглядеть ( унас же дисбаланс классов)\n",
    "print(f'ROC AUC (ovr) = {roc_auc_score(y_true=y_test, y_score=y_pred_proba, average='macro', multi_class='ovr'):1.2f}') #ЧУВСТВИТЕЛЕН К ДИСБАЛАНСУ\n",
    "print(f'ROC AUC (ovo) = {roc_auc_score(y_true=y_test, y_score=y_pred_proba, average='macro', multi_class='ovo'):1.2f}') #НЕ ЧУВСТВИТЕЛЕН К ДИСБАЛАНСУ"
   ]
  },
  {
   "cell_type": "markdown",
   "id": "76059998-8cff-4bb1-a1c6-b53aad583e07",
   "metadata": {},
   "source": [
    "> Было интересно сравнить насколько будут различаться пары (accuracy, balanced_accuracy) и (roc_auc ovr, roc_auc ovo) на наших данных с дисбалансом классов. Интересно, что значения обоих пар между собой близки друг к другу\n",
    "> А если в целом, то accuracy, при условии, что у нас 11 классов, имеет неплохое значение (бейзлайн 1/11~0,09). ROC AUC тоже неплоха.\n",
    ">\n",
    "> *дальше будем тоде наблюдать за метриками чувствительными/нет к дисбалансу*"
   ]
  },
  {
   "cell_type": "code",
   "execution_count": null,
   "id": "92f520ec-a625-4d87-b1c8-19dc3b384b48",
   "metadata": {},
   "outputs": [],
   "source": []
  },
  {
   "cell_type": "markdown",
   "id": "42eb43bf-cb13-4545-9725-4219b8e937eb",
   "metadata": {},
   "source": [
    "> **Второй датафрейм (без строк с NA)**"
   ]
  },
  {
   "cell_type": "code",
   "execution_count": 29,
   "id": "8f6e8dbb-7b01-49fd-b567-c0d7062abc1a",
   "metadata": {},
   "outputs": [],
   "source": [
    "#Сплитим\n",
    "X = data_wo_na_rows.drop(['Class'], axis=1)\n",
    "Y = data_wo_na_rows['Class']\n",
    "X_train, X_test, y_train, y_test = train_test_split(X, Y, test_size=0.2, random_state = SEED)"
   ]
  },
  {
   "cell_type": "code",
   "execution_count": 30,
   "id": "098b3c96-d5a2-4593-a192-c6236a21a40c",
   "metadata": {},
   "outputs": [],
   "source": [
    "#подбор модели\n",
    "dt_model = GridSearchCV(DecisionTreeClassifier(), \n",
    "                          {'max_depth': [1, 3, 5, 7, 10],\n",
    "                           'min_samples_leaf': [1, 3, 5, 10], \n",
    "                           'min_samples_split': [2, 3, 5, 10],\n",
    "                           'criterion': ['gini', 'entropy'],\n",
    "                           'random_state': [SEED]\n",
    "                          }\n",
    "                        ).fit(X_train, y_train)"
   ]
  },
  {
   "cell_type": "code",
   "execution_count": 31,
   "id": "0174e65d-1ae8-474c-aabb-8f7239c3bbab",
   "metadata": {},
   "outputs": [
    {
     "data": {
      "text/plain": [
       "{'criterion': 'entropy',\n",
       " 'max_depth': 7,\n",
       " 'min_samples_leaf': 5,\n",
       " 'min_samples_split': 2,\n",
       " 'random_state': 11}"
      ]
     },
     "execution_count": 31,
     "metadata": {},
     "output_type": "execute_result"
    }
   ],
   "source": [
    "#лучшая\n",
    "dt_model.best_params_"
   ]
  },
  {
   "cell_type": "code",
   "execution_count": 32,
   "id": "050cef16-e112-4e9b-b635-9840ce1208fd",
   "metadata": {},
   "outputs": [],
   "source": [
    "#предсказания\n",
    "y_pred_proba = dt_model.predict_proba(X_test)\n",
    "y_pred = dt_model.predict(X_test)"
   ]
  },
  {
   "cell_type": "code",
   "execution_count": 33,
   "id": "ea2df318-f964-4d0d-a199-7d8a560c011e",
   "metadata": {},
   "outputs": [
    {
     "name": "stdout",
     "output_type": "stream",
     "text": [
      "Accuracy = 0.46\n",
      "Balanced accuracy = 0.48\n",
      "ROC AUC (ovr) = 0.85\n",
      "ROC AUC (ovo) = 0.88\n"
     ]
    }
   ],
   "source": [
    "#метрики\n",
    "print(f'Accuracy = {accuracy_score(y_true=y_test, y_pred=y_pred):1.2f}')\n",
    "print(f'Balanced accuracy = {balanced_accuracy_score(y_true=y_test, y_pred=y_pred):1.2f}') #нашла такое, решила поглядеть\n",
    "print(f'ROC AUC (ovr) = {roc_auc_score(y_true=y_test, y_score=y_pred_proba, average='macro', multi_class='ovr'):1.2f}') #ЧУВСТВИТЕЛЕН К ДИСБАЛАНСУ\n",
    "print(f'ROC AUC (ovo) = {roc_auc_score(y_true=y_test, y_score=y_pred_proba, average='macro', multi_class='ovo'):1.2f}') #НЕ ЧУВСТВИТЕЛЕН К ДИСБАЛАНСУ"
   ]
  },
  {
   "cell_type": "markdown",
   "id": "bc7f36ac-4eaa-4cf6-9dd6-a0ca1cbad526",
   "metadata": {},
   "source": [
    "> Значения метрик не сильно изменились относительно предыдущего запуска. Т.е. конкретно в этих случаях не сильно важно оказалось, от чего именно мы откажемся. Но в общем случае всё зависит от задачи. Не стоит выкидывать фичи, если придётся отказаться от многих, и то же самое про строки. Можно ещё заполнять значения (медиана, мода, линейной регрессией и др., но здесь мне показалось это не очень подходящим).\n",
    ">\n",
    ">  Что касается лучшей модели (после подбора в GridSearchCV), то все гиперпараметры те же за исключением criterion, который ранее был gini, а теперь entropy."
   ]
  },
  {
   "cell_type": "code",
   "execution_count": null,
   "id": "589b1859-e0fd-4492-b58c-52e2ce55fb25",
   "metadata": {},
   "outputs": [],
   "source": []
  },
  {
   "cell_type": "markdown",
   "id": "aa7ced43-6190-469b-b573-b8491acdfacd",
   "metadata": {},
   "source": [
    "> **Третий датафрейм (заполненные NA)**"
   ]
  },
  {
   "cell_type": "code",
   "execution_count": 34,
   "id": "ec60833a-8d83-4596-8c73-d20108185945",
   "metadata": {},
   "outputs": [],
   "source": [
    "#Сплитим\n",
    "X = data_fill_na.drop(['Class'], axis=1)\n",
    "Y = data_fill_na['Class']\n",
    "X_train, X_test, y_train, y_test = train_test_split(X, Y, test_size=0.2, random_state = SEED)"
   ]
  },
  {
   "cell_type": "code",
   "execution_count": 35,
   "id": "2653dd1b-b6f7-453d-b8b1-deafd92e91fd",
   "metadata": {},
   "outputs": [],
   "source": [
    "#подбор модели\n",
    "dt_model = GridSearchCV(DecisionTreeClassifier(), \n",
    "                          {'max_depth': [1, 3, 5, 7, 10],\n",
    "                           'min_samples_leaf': [1, 3, 5, 10], \n",
    "                           'min_samples_split': [2, 3, 5, 10],\n",
    "                           'criterion': ['gini', 'entropy'],\n",
    "                           'random_state': [SEED]\n",
    "                          }\n",
    "                        ).fit(X_train, y_train)"
   ]
  },
  {
   "cell_type": "code",
   "execution_count": 36,
   "id": "24c0b78a-2bee-4b53-a47d-0a70c381817e",
   "metadata": {},
   "outputs": [
    {
     "data": {
      "text/plain": [
       "{'criterion': 'gini',\n",
       " 'max_depth': 10,\n",
       " 'min_samples_leaf': 3,\n",
       " 'min_samples_split': 2,\n",
       " 'random_state': 11}"
      ]
     },
     "execution_count": 36,
     "metadata": {},
     "output_type": "execute_result"
    }
   ],
   "source": [
    "#лучшая\n",
    "dt_model.best_params_"
   ]
  },
  {
   "cell_type": "code",
   "execution_count": 37,
   "id": "f0463e65-786a-4c00-80da-420fce1f27ef",
   "metadata": {},
   "outputs": [],
   "source": [
    "#предсказания\n",
    "y_pred_proba = dt_model.predict_proba(X_test)\n",
    "y_pred = dt_model.predict(X_test)"
   ]
  },
  {
   "cell_type": "code",
   "execution_count": 38,
   "id": "973a5c1f-3b2c-4f5e-b408-bcac23271bfc",
   "metadata": {},
   "outputs": [
    {
     "name": "stdout",
     "output_type": "stream",
     "text": [
      "Accuracy = 0.48\n",
      "Balanced accuracy = 0.52\n",
      "ROC AUC (ovr) = 0.84\n",
      "ROC AUC (ovo) = 0.87\n"
     ]
    }
   ],
   "source": [
    "#метрики\n",
    "print(f'Accuracy = {accuracy_score(y_true=y_test, y_pred=y_pred):1.2f}')\n",
    "print(f'Balanced accuracy = {balanced_accuracy_score(y_true=y_test, y_pred=y_pred):1.2f}') #нашла такое, решила поглядеть ( унас же дисбаланс классов)\n",
    "print(f'ROC AUC (ovr) = {roc_auc_score(y_true=y_test, y_score=y_pred_proba, average='macro', multi_class='ovr'):1.2f}') #ЧУВСТВИТЕЛЕН К ДИСБАЛАНСУ\n",
    "print(f'ROC AUC (ovo) = {roc_auc_score(y_true=y_test, y_score=y_pred_proba, average='macro', multi_class='ovo'):1.2f}') #НЕ ЧУВСТВИТЕЛЕН К ДИСБАЛАНСУ"
   ]
  },
  {
   "cell_type": "markdown",
   "id": "5552f344-cb61-4899-9a44-eb77f2d6fac5",
   "metadata": {},
   "source": [
    "> Было интересно сравнить насколько будут различаться пары (accuracy, balanced_accuracy) и (roc_auc ovr, roc_auc ovo) на наших данных с дисбалансом классов. Интересно, что значения обоих пар между собой близки друг к другу\n",
    "> А если в целом, то accuracy, при условии, что у нас 11 классов, имеет неплохое значение (бейзлайн 1/11~0,09). ROC AUC тоже неплоха."
   ]
  },
  {
   "cell_type": "code",
   "execution_count": null,
   "id": "95f7ae53-9626-417d-82ed-17d03ee1351f",
   "metadata": {},
   "outputs": [],
   "source": []
  },
  {
   "cell_type": "markdown",
   "id": "38b603e7-a833-4567-8ef0-bb1d55bf26f5",
   "metadata": {},
   "source": [
    "> На консультации мы обсудили ещё **обучение с весами**. Давайте тут же его затестим (на **втором датафрейме**):"
   ]
  },
  {
   "cell_type": "code",
   "execution_count": 39,
   "id": "51ed8c04-c93d-4b6a-9bd8-bba451bd04a5",
   "metadata": {},
   "outputs": [],
   "source": [
    "#Сплитим\n",
    "X = data_wo_na_rows.drop(['Class'], axis=1)\n",
    "Y = data_wo_na_rows['Class']\n",
    "X_train, X_test, y_train, y_test = train_test_split(X, Y, test_size=0.2, random_state = SEED)"
   ]
  },
  {
   "cell_type": "code",
   "execution_count": 40,
   "id": "e438d443-74a3-43e8-b66c-b0bf505dd07b",
   "metadata": {},
   "outputs": [],
   "source": [
    "#подбор модели\n",
    "dt_model = GridSearchCV(DecisionTreeClassifier(), \n",
    "                          {'max_depth': [1, 3, 5, 7, 10],\n",
    "                           'min_samples_leaf': [1, 3, 5, 10], \n",
    "                           'min_samples_split': [2, 3, 5, 10],\n",
    "                           'criterion': ['gini', 'entropy'],\n",
    "                           'class_weight': ['balanced'],\n",
    "                           'random_state': [SEED]\n",
    "                          }\n",
    "                        ).fit(X_train, y_train)"
   ]
  },
  {
   "cell_type": "code",
   "execution_count": 41,
   "id": "4e8bf626-9cd1-431a-8c2f-8933dbd6e6a7",
   "metadata": {},
   "outputs": [
    {
     "data": {
      "text/plain": [
       "{'class_weight': 'balanced',\n",
       " 'criterion': 'entropy',\n",
       " 'max_depth': 7,\n",
       " 'min_samples_leaf': 3,\n",
       " 'min_samples_split': 2,\n",
       " 'random_state': 11}"
      ]
     },
     "execution_count": 41,
     "metadata": {},
     "output_type": "execute_result"
    }
   ],
   "source": [
    "#лучшая\n",
    "dt_model.best_params_"
   ]
  },
  {
   "cell_type": "code",
   "execution_count": 42,
   "id": "1aabffa3-6e28-48d3-89af-f7ea060b3675",
   "metadata": {},
   "outputs": [],
   "source": [
    "#предсказания\n",
    "y_pred_proba = dt_model.predict_proba(X_test)\n",
    "y_pred = dt_model.predict(X_test)"
   ]
  },
  {
   "cell_type": "code",
   "execution_count": 43,
   "id": "b20f4943-83b0-445d-8d0a-eb2f780bad59",
   "metadata": {},
   "outputs": [
    {
     "name": "stdout",
     "output_type": "stream",
     "text": [
      "Accuracy = 0.38\n",
      "Balanced accuracy = 0.53\n",
      "ROC AUC (ovr) = 0.85\n",
      "ROC AUC (ovo) = 0.89\n"
     ]
    }
   ],
   "source": [
    "#метрики\n",
    "print(f'Accuracy = {accuracy_score(y_true=y_test, y_pred=y_pred):1.2f}')\n",
    "print(f'Balanced accuracy = {balanced_accuracy_score(y_true=y_test, y_pred=y_pred):1.2f}') #нашла такое, решила поглядеть\n",
    "print(f'ROC AUC (ovr) = {roc_auc_score(y_true=y_test, y_score=y_pred_proba, average='macro', multi_class='ovr'):1.2f}') #ЧУВСТВИТЕЛЕН К ДИСБАЛАНСУ\n",
    "print(f'ROC AUC (ovo) = {roc_auc_score(y_true=y_test, y_score=y_pred_proba, average='macro', multi_class='ovo'):1.2f}') #НЕ ЧУВСТВИТЕЛЕН К ДИСБАЛАНСУ"
   ]
  },
  {
   "cell_type": "markdown",
   "id": "fe0c2113-f49a-4e30-94bb-083499ac56d3",
   "metadata": {},
   "source": [
    "> Метрики изменились. Причём теперь обычная accuracy стала хуже, а сбалансированная лучше (я рада). Но ROC AUC не особенно изменилась. Но в целом введение не одинаковых весов в модель поменяли ситуацию. Лучшая модель тоже чутка изменилась: теперь min_samples_split равен 5, а не 2 как в двух предыдущих.\n",
    ">\n",
    "> Если подводить итог, то здесь, даже при условии, что метрики чутка изменились, всё равно нет особенной разницы в подходах."
   ]
  },
  {
   "cell_type": "code",
   "execution_count": null,
   "id": "097a316a-051a-489e-b026-16eb4231998e",
   "metadata": {},
   "outputs": [],
   "source": []
  },
  {
   "cell_type": "markdown",
   "id": "bcab079b",
   "metadata": {},
   "source": [
    "### Задание 3. Другие модели (без баллов, просто если есть желание)\n",
    "\n",
    "Проделайте операции из **Задания 2** с другими известными вам классификаторами. Стало ли лучше?"
   ]
  },
  {
   "cell_type": "code",
   "execution_count": 45,
   "id": "2504d566-600f-44c7-b096-4e6162bbdb49",
   "metadata": {
    "jupyter": {
     "source_hidden": true
    }
   },
   "outputs": [
    {
     "name": "stdout",
     "output_type": "stream",
     "text": [
      "Best knn: {'n_neighbors': 15, 'p': 2, 'weights': 'uniform'}\n",
      "Accuracy = 0.28\n",
      "Balanced accuracy = 0.29\n"
     ]
    }
   ],
   "source": [
    "#Давайте глянем knn: БЕЗ СКЕЙЛА\n",
    "\n",
    "#Сплитим\n",
    "X = data_wo_na_rows.drop(['Class'], axis=1)\n",
    "Y = data_wo_na_rows['Class']\n",
    "X_train, X_test, y_train, y_test = train_test_split(X, Y, test_size=0.2, random_state = 11)\n",
    "\n",
    "#нам придётся поскейлить для этой модели, поэтому конечно не получится сравнить модели прям на одних и тех же данных\n",
    "\n",
    "#подбор модели\n",
    "knn_model = GridSearchCV(KNeighborsClassifier(),\n",
    "                         {'n_neighbors': [3, 5, 7, 9, 11, 15],\n",
    "                          'weights': [\"uniform\", \"distance\"],\n",
    "                          'p': [1, 2]}).fit(X_train, y_train)\n",
    "\n",
    "#лучшая\n",
    "print(f'Best knn: {knn_model.best_params_}')\n",
    "\n",
    "#предсказания\n",
    "y_pred = knn_model.predict(X_test)\n",
    "\n",
    "#метрики\n",
    "print(f'Accuracy = {accuracy_score(y_true=y_test, y_pred=y_pred):1.2f}')\n",
    "print(f'Balanced accuracy = {balanced_accuracy_score(y_true=y_test, y_pred=y_pred):1.2f}') "
   ]
  },
  {
   "cell_type": "code",
   "execution_count": 46,
   "id": "3e752133",
   "metadata": {},
   "outputs": [
    {
     "name": "stdout",
     "output_type": "stream",
     "text": [
      "Best knn: {'n_neighbors': 15, 'p': 1, 'weights': 'uniform'}\n",
      "Accuracy = 0.47\n",
      "Balanced accuracy = 0.50\n"
     ]
    }
   ],
   "source": [
    "#Давайте глянем knn:\n",
    "\n",
    "#Сплитим\n",
    "X = data_wo_na_rows.drop(['Class'], axis=1)\n",
    "Y = data_wo_na_rows['Class']\n",
    "X_train, X_test, y_train, y_test = train_test_split(X, Y, test_size=0.2, random_state = SEED)\n",
    "\n",
    "#нам придётся поскейлить для этой модели, поэтому конечно не получится сравнить модели прям на одних и тех же данных\n",
    "scaler = StandardScaler()\n",
    "X_train = scaler.fit_transform(X_train)\n",
    "X_test = scaler.transform(X_test)\n",
    "\n",
    "#подбор модели\n",
    "knn_model = GridSearchCV(KNeighborsClassifier(),\n",
    "                         {'n_neighbors': [3, 5, 7, 9, 11, 15],\n",
    "                          'weights': [\"uniform\", \"distance\"],\n",
    "                          'p': [1, 2]}).fit(X_train, y_train)\n",
    "\n",
    "#лучшая\n",
    "print(f'Best knn: {knn_model.best_params_}')#тестила без скейла было: {'n_neighbors': 15, 'p': 2, 'weights': 'uniform'}\n",
    "\n",
    "#предсказания\n",
    "y_pred = knn_model.predict(X_test)\n",
    "\n",
    "#метрики\n",
    "print(f'Accuracy = {accuracy_score(y_true=y_test, y_pred=y_pred):1.2f}')#тестила без скейла было: 0.28\n",
    "print(f'Balanced accuracy = {balanced_accuracy_score(y_true=y_test, y_pred=y_pred):1.2f}')#тестила без скейла было: 0.29"
   ]
  },
  {
   "cell_type": "markdown",
   "id": "fabbe84a-b89f-4298-a891-eb4b70122fa1",
   "metadata": {},
   "source": [
    "> По метрикам knn здесь оказался близок к дереву решений. (но если не скейлить даннные, то там было намного хуже)"
   ]
  },
  {
   "cell_type": "code",
   "execution_count": 47,
   "id": "48330596-a197-4fcb-8b87-cf61150c1521",
   "metadata": {},
   "outputs": [
    {
     "name": "stdout",
     "output_type": "stream",
     "text": [
      "Best knn: {'C': 10, 'penalty': 'l1', 'random_state': 11}\n",
      "Accuracy = 0.48\n",
      "Balanced accuracy = 0.49\n",
      "ROC AUC (ovr) = 0.87\n",
      "ROC AUC (ovo) = 0.89\n"
     ]
    }
   ],
   "source": [
    "#и логистическую регрессию:\n",
    "\n",
    "#подбор модели\n",
    "logr_model = GridSearchCV(LogisticRegression(solver=\"liblinear\", max_iter=100000),\n",
    "                          {'penalty': (\"l1\", \"l2\"),\n",
    "                           'C': [0.01, 0.1, 1, 10, 100],\n",
    "                           'random_state': [SEED]}\n",
    "                          ).fit(X_train, y_train)\n",
    "\n",
    "#лучшая\n",
    "print(f'Best knn: {logr_model.best_params_}')\n",
    "\n",
    "#предсказания\n",
    "y_pred_proba = logr_model.predict_proba(X_test)\n",
    "y_pred = logr_model.predict(X_test)\n",
    "\n",
    "#метрики\n",
    "print(f'Accuracy = {accuracy_score(y_true=y_test, y_pred=y_pred):1.2f}')\n",
    "print(f'Balanced accuracy = {balanced_accuracy_score(y_true=y_test, y_pred=y_pred):1.2f}') \n",
    "print(f'ROC AUC (ovr) = {roc_auc_score(y_true=y_test, y_score=y_pred_proba, average='macro', multi_class='ovr'):1.2f}') #ЧУВСТВИТЕЛЕН К ДИСБАЛАНСУ\n",
    "print(f'ROC AUC (ovo) = {roc_auc_score(y_true=y_test, y_score=y_pred_proba, average='macro', multi_class='ovo'):1.2f}') #НЕ ЧУВСТВИТЕЛЕН К ДИСБАЛАНСУ"
   ]
  },
  {
   "cell_type": "markdown",
   "id": "bff2124b-4d49-4f44-95f1-12cb5343714a",
   "metadata": {},
   "source": [
    "> По метрикам тоже близко к дереву решений, даже на совсем чуть-чуть лучше (~0.01)\n"
   ]
  },
  {
   "cell_type": "code",
   "execution_count": null,
   "id": "cab11926-8bcb-4728-bcd3-521360c9e707",
   "metadata": {},
   "outputs": [],
   "source": []
  },
  {
   "cell_type": "markdown",
   "id": "fa3b6797-8b99-4781-b434-a5bca8fd2632",
   "metadata": {},
   "source": [
    ">**Итого:**\n",
    ">\n",
    ">**метрики**: разница в значениях между чувствительными/нет к дисбалансу метрик была, но не очень большая (~0.01)\n",
    ">\n",
    ">**датафрейм**: лучший вариант предобработки данных согласно метрикам оказался третий, т.е. когда мы заполнили NA модами. Однако модель с учётом весов улучшила ситуацию для варианта с отказом от строк с NA (даже лучше просто третьего вариант).\n",
    ">\n",
    ">**модели**: среди всех рассмотренных моделей сложно выделить явного лидера. У всех accuracy была порядка 0.40+ и ROC AUC 0.80+.\n"
   ]
  },
  {
   "cell_type": "code",
   "execution_count": null,
   "id": "0262ca66-a944-460c-a208-ee13faff880b",
   "metadata": {},
   "outputs": [],
   "source": []
  },
  {
   "cell_type": "code",
   "execution_count": null,
   "id": "e1d0b787-0278-40bc-b6cd-bb165e412e1e",
   "metadata": {},
   "outputs": [],
   "source": []
  },
  {
   "cell_type": "markdown",
   "id": "b02b0104",
   "metadata": {},
   "source": [
    "### Задание 4. (0.5 доп. балла)\n",
    "\n",
    "Расскажите про свои любимые фильмы, мультики и тд.\n",
    "\n",
    "1. \n",
    "\n",
    "2. \n",
    "  \n",
    "3. "
   ]
  },
  {
   "cell_type": "code",
   "execution_count": null,
   "id": "7426dc16",
   "metadata": {},
   "outputs": [],
   "source": []
  }
 ],
 "metadata": {
  "kernelspec": {
   "display_name": "Python 3 (ipykernel)",
   "language": "python",
   "name": "python3"
  },
  "language_info": {
   "codemirror_mode": {
    "name": "ipython",
    "version": 3
   },
   "file_extension": ".py",
   "mimetype": "text/x-python",
   "name": "python",
   "nbconvert_exporter": "python",
   "pygments_lexer": "ipython3",
   "version": "3.12.1"
  }
 },
 "nbformat": 4,
 "nbformat_minor": 5
}
